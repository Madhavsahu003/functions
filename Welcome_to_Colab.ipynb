{
  "cells": [
    {
      "cell_type": "markdown",
      "source": [
        "# Functions"
      ],
      "metadata": {
        "id": "mXcg0tgaK1rY"
      }
    },
    {
      "cell_type": "markdown",
      "source": [
        "1. What is thedifference between a function and a method in Python?\n",
        "   - a function is independent and can be called from anywhere, while a method is tied to a class or object and must be called on that object or within the class.\n",
        "2. second question\n",
        "  -  this is an answer for second question"
      ],
      "metadata": {
        "id": "2pvl2ER7LHXA"
      }
    },
    {
      "cell_type": "code",
      "source": [
        "# question"
      ],
      "metadata": {
        "id": "3Rzb_2vpNY0x"
      },
      "execution_count": 2,
      "outputs": []
    },
    {
      "cell_type": "code",
      "source": [],
      "metadata": {
        "id": "DLVN9ltiOHRc"
      },
      "execution_count": null,
      "outputs": []
    }
  ],
  "metadata": {
    "colab": {
      "name": "Welcome to Colab",
      "toc_visible": true,
      "provenance": []
    },
    "kernelspec": {
      "display_name": "Python 3",
      "name": "python3"
    }
  },
  "nbformat": 4,
  "nbformat_minor": 0
}